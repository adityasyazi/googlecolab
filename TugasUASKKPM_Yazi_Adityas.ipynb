{
  "nbformat": 4,
  "nbformat_minor": 0,
  "metadata": {
    "colab": {
      "provenance": [],
      "authorship_tag": "ABX9TyOEx53bIaikRSBzgG6CJ4ae",
      "include_colab_link": true
    },
    "kernelspec": {
      "name": "python3",
      "display_name": "Python 3"
    },
    "language_info": {
      "name": "python"
    }
  },
  "cells": [
    {
      "cell_type": "markdown",
      "metadata": {
        "id": "view-in-github",
        "colab_type": "text"
      },
      "source": [
        "<a href=\"https://colab.research.google.com/github/adityasyazi/googlecolab/blob/main/TugasUASKKPM_Yazi_Adityas.ipynb\" target=\"_parent\"><img src=\"https://colab.research.google.com/assets/colab-badge.svg\" alt=\"Open In Colab\"/></a>"
      ]
    },
    {
      "cell_type": "markdown",
      "source": [
        "1. Mengecek Dataset"
      ],
      "metadata": {
        "id": "RVEdRt_r3GS9"
      }
    },
    {
      "cell_type": "code",
      "source": [
        "import pandas as pd\n",
        "\n",
        "# Membaca dataset\n",
        "url = \"https://raw.githubusercontent.com/achmatim/data-mining/main/Dataset/SportSkill-Training.csv\"\n",
        "data = pd.read_csv(url)\n",
        "\n",
        "# Melihat informasi dataset\n",
        "print(data.info())\n",
        "print(data.describe())\n",
        "print(data.head())"
      ],
      "metadata": {
        "colab": {
          "base_uri": "https://localhost:8080/"
        },
        "id": "10607j-L3B-1",
        "outputId": "c4803adf-77b8-4e5b-db44-83b8234bb251"
      },
      "execution_count": 136,
      "outputs": [
        {
          "output_type": "stream",
          "name": "stdout",
          "text": [
            "<class 'pandas.core.frame.DataFrame'>\n",
            "RangeIndex: 493 entries, 0 to 492\n",
            "Data columns (total 9 columns):\n",
            " #   Column           Non-Null Count  Dtype  \n",
            "---  ------           --------------  -----  \n",
            " 0   Age              493 non-null    float64\n",
            " 1   Strength         493 non-null    int64  \n",
            " 2   Quickness        493 non-null    int64  \n",
            " 3   Injury           493 non-null    int64  \n",
            " 4   Vision           493 non-null    int64  \n",
            " 5   Endurance        493 non-null    int64  \n",
            " 6   Agility          493 non-null    int64  \n",
            " 7   Decision_Making  493 non-null    int64  \n",
            " 8   Prime_Sport      493 non-null    object \n",
            "dtypes: float64(1), int64(7), object(1)\n",
            "memory usage: 34.8+ KB\n",
            "None\n",
            "              Age    Strength   Quickness      Injury      Vision   Endurance  \\\n",
            "count  493.000000  493.000000  493.000000  493.000000  493.000000  493.000000   \n",
            "mean    15.941785    3.519270    1.973631    0.638945    1.697769    3.849899   \n",
            "std      1.808235    1.464392    1.499768    0.480794    1.133352    1.330454   \n",
            "min     13.000000    0.000000    0.000000    0.000000    0.000000    0.000000   \n",
            "25%     14.300000    3.000000    1.000000    0.000000    1.000000    3.000000   \n",
            "50%     15.900000    4.000000    1.000000    1.000000    2.000000    5.000000   \n",
            "75%     17.600000    4.000000    2.000000    1.000000    3.000000    5.000000   \n",
            "max     19.000000    7.000000    6.000000    1.000000    3.000000    6.000000   \n",
            "\n",
            "          Agility  Decision_Making  \n",
            "count  493.000000       493.000000  \n",
            "mean    33.685598        30.172414  \n",
            "std     12.446329        21.484270  \n",
            "min     13.000000         0.000000  \n",
            "25%     23.000000        11.000000  \n",
            "50%     32.000000        29.000000  \n",
            "75%     42.000000        41.000000  \n",
            "max     80.000000       103.000000  \n",
            "    Age  Strength  Quickness  Injury  Vision  Endurance  Agility  \\\n",
            "0  15.1         3          2       1       2          3       29   \n",
            "1  15.4         3          2       0       3          5       18   \n",
            "2  13.6         5          5       0       2          5       27   \n",
            "3  18.8         5          1       1       1          3       48   \n",
            "4  16.1         3          1       0       3          3       38   \n",
            "\n",
            "   Decision_Making Prime_Sport  \n",
            "0                4    Football  \n",
            "1                8    Baseball  \n",
            "2               28      Hockey  \n",
            "3               36      Hockey  \n",
            "4               29    Football  \n"
          ]
        }
      ]
    },
    {
      "cell_type": "markdown",
      "source": [
        "2. **Pra-pemrosesan Data**\n",
        "Menangani Nilai yang Hilang : Periksa nilai yang hilang dan ambil tindakan (misalnya, hapus atau impute).\n",
        "Encoding Kategorikal : Jika ada kolom kategorikal, ubah mereka menjadi format numerik (misalnya, menggunakan one-hot encoding)."
      ],
      "metadata": {
        "id": "J9eT0zyv3NRS"
      }
    },
    {
      "cell_type": "code",
      "source": [
        "# Memeriksa nilai yang hilang\n",
        "print(data.isnull().sum())\n",
        "\n",
        "# Menggunakan one-hot encoding (jika ada kolom kategorikal)\n",
        "data = pd.get_dummies(data)"
      ],
      "metadata": {
        "colab": {
          "base_uri": "https://localhost:8080/"
        },
        "id": "lgkMaeK03LDL",
        "outputId": "83f38f7b-0c9d-4671-ead1-b90c9d4aefd9"
      },
      "execution_count": 137,
      "outputs": [
        {
          "output_type": "stream",
          "name": "stdout",
          "text": [
            "Age                0\n",
            "Strength           0\n",
            "Quickness          0\n",
            "Injury             0\n",
            "Vision             0\n",
            "Endurance          0\n",
            "Agility            0\n",
            "Decision_Making    0\n",
            "Prime_Sport        0\n",
            "dtype: int64\n"
          ]
        }
      ]
    },
    {
      "cell_type": "markdown",
      "source": [
        "3. Pembagian DataSet"
      ],
      "metadata": {
        "id": "EfK9onqL3fxa"
      }
    },
    {
      "cell_type": "code",
      "source": [
        "from sklearn.model_selection import train_test_split\n",
        "\n",
        "X = data.drop('Endurance', axis=1)  # Ganti 'target_column' dengan nama kolom target\n",
        "y = data['Endurance']\n",
        "\n",
        "X_train, X_test, y_train, y_test = train_test_split(X, y, test_size=0.2, random_state=42)"
      ],
      "metadata": {
        "id": "6ZBSC0wK3fAM"
      },
      "execution_count": 138,
      "outputs": []
    },
    {
      "cell_type": "markdown",
      "source": [
        "4. Mencoba Model Yang berbeda"
      ],
      "metadata": {
        "id": "jM-EZdch3rqc"
      }
    },
    {
      "cell_type": "code",
      "source": [
        "from sklearn.ensemble import RandomForestClassifier\n",
        "from sklearn.metrics import accuracy_score\n",
        "\n",
        "model = RandomForestClassifier(random_state=42)\n",
        "model.fit(X_train, y_train)\n",
        "y_pred = model.predict(X_test)\n",
        "\n",
        "accuracy = accuracy_score(y_test, y_pred)\n",
        "print(\"Akurasi Random Forest:\", accuracy)"
      ],
      "metadata": {
        "colab": {
          "base_uri": "https://localhost:8080/"
        },
        "id": "m6DfhKc83rOG",
        "outputId": "0c9cb5a4-6a64-43a0-e649-90c2e0a7bfc8"
      },
      "execution_count": 139,
      "outputs": [
        {
          "output_type": "stream",
          "name": "stdout",
          "text": [
            "Akurasi Random Forest: 0.6767676767676768\n"
          ]
        }
      ]
    },
    {
      "cell_type": "markdown",
      "source": [
        "5. HyperParamaeter Tunning"
      ],
      "metadata": {
        "id": "7bkde_3y3yjm"
      }
    },
    {
      "cell_type": "code",
      "source": [
        "from sklearn.model_selection import GridSearchCV\n",
        "\n",
        "param_grid = {\n",
        "    'n_estimators': [100, 200],\n",
        "    'max_depth': [15, 10, 20],\n",
        "    'min_samples_split': [2, 5]\n",
        "}\n",
        "\n",
        "grid_search = GridSearchCV(RandomForestClassifier(random_state=42), param_grid, cv=5)\n",
        "grid_search.fit(X_train, y_train)\n",
        "\n",
        "best_model = grid_search.best_estimator_\n",
        "y_pred = best_model.predict(X_test)\n",
        "\n",
        "accuracy = accuracy_score(y_test, y_pred)\n",
        "print(\"Akurasi setelah Tuning:\", accuracy)"
      ],
      "metadata": {
        "colab": {
          "base_uri": "https://localhost:8080/"
        },
        "id": "yg_JQ24F31ga",
        "outputId": "410eb152-a51b-46f7-e3cb-ca68b343ffa4"
      },
      "execution_count": 142,
      "outputs": [
        {
          "output_type": "stream",
          "name": "stderr",
          "text": [
            "/usr/local/lib/python3.10/dist-packages/sklearn/model_selection/_split.py:776: UserWarning: The least populated class in y has only 2 members, which is less than n_splits=5.\n",
            "  warnings.warn(\n"
          ]
        },
        {
          "output_type": "stream",
          "name": "stdout",
          "text": [
            "Akurasi setelah Tuning: 0.6868686868686869\n"
          ]
        }
      ]
    },
    {
      "cell_type": "code",
      "source": [
        "# Menampilkan hasil\n",
        "print(f\"Random Forest Accuracy: {accuracy * 100:.2f}%\\n\")\n",
        "print(\"Classification Report (RF):\\n\")\n",
        "print(classification_report(y_test, y_pred))"
      ],
      "metadata": {
        "colab": {
          "base_uri": "https://localhost:8080/"
        },
        "id": "et_amiwF4GFC",
        "outputId": "12678d2e-7b4a-4819-d1d3-c1ab68f160ff"
      },
      "execution_count": 141,
      "outputs": [
        {
          "output_type": "stream",
          "name": "stdout",
          "text": [
            "Random Forest Accuracy: 68.69%\n",
            "\n",
            "Classification Report (RF):\n",
            "\n",
            "              precision    recall  f1-score   support\n",
            "\n",
            "           0       0.00      0.00      0.00         1\n",
            "           1       0.50      0.14      0.22         7\n",
            "           3       0.63      0.74      0.68        42\n",
            "           4       0.00      0.00      0.00         1\n",
            "           5       0.75      0.75      0.75        48\n",
            "\n",
            "    accuracy                           0.69        99\n",
            "   macro avg       0.38      0.33      0.33        99\n",
            "weighted avg       0.67      0.69      0.67        99\n",
            "\n"
          ]
        },
        {
          "output_type": "stream",
          "name": "stderr",
          "text": [
            "/usr/local/lib/python3.10/dist-packages/sklearn/metrics/_classification.py:1531: UndefinedMetricWarning: Precision is ill-defined and being set to 0.0 in labels with no predicted samples. Use `zero_division` parameter to control this behavior.\n",
            "  _warn_prf(average, modifier, f\"{metric.capitalize()} is\", len(result))\n",
            "/usr/local/lib/python3.10/dist-packages/sklearn/metrics/_classification.py:1531: UndefinedMetricWarning: Precision is ill-defined and being set to 0.0 in labels with no predicted samples. Use `zero_division` parameter to control this behavior.\n",
            "  _warn_prf(average, modifier, f\"{metric.capitalize()} is\", len(result))\n",
            "/usr/local/lib/python3.10/dist-packages/sklearn/metrics/_classification.py:1531: UndefinedMetricWarning: Precision is ill-defined and being set to 0.0 in labels with no predicted samples. Use `zero_division` parameter to control this behavior.\n",
            "  _warn_prf(average, modifier, f\"{metric.capitalize()} is\", len(result))\n"
          ]
        }
      ]
    },
    {
      "cell_type": "code",
      "source": [
        "# Random Forest Model with Grid Search\n",
        "param_grid_rf = {\n",
        "'n_estimators': [100, 200, 300],\n",
        "'max_depth': [15],\n",
        "'min_samples_split': [2],\n",
        "'min_samples_leaf': [1],\n",
        "'bootstrap': [False]\n",
        "}\n",
        "rf_model = RandomForestClassifier(random_state=42)\n",
        "grid_search_rf = GridSearchCV(estimator=rf_model, param_grid=param_grid_rf, cv=5,\n",
        "scoring='accuracy')\n",
        "grid_search_rf.fit(X_train, y_train)\n",
        "\n",
        "# Menampilkan hasil\n",
        "print(f\"Random Forest Accuracy: {accuracy * 100:.2f}%\\n\")\n",
        "print(\"Classification Report (RF):\\n\")\n",
        "print(classification_report(y_test, y_pred))"
      ],
      "metadata": {
        "colab": {
          "base_uri": "https://localhost:8080/"
        },
        "id": "QJeOFxdN5fvY",
        "outputId": "d800ca34-8869-40bc-f833-139eeba57a9e"
      },
      "execution_count": 144,
      "outputs": [
        {
          "output_type": "stream",
          "name": "stderr",
          "text": [
            "/usr/local/lib/python3.10/dist-packages/sklearn/model_selection/_split.py:776: UserWarning: The least populated class in y has only 2 members, which is less than n_splits=5.\n",
            "  warnings.warn(\n"
          ]
        },
        {
          "output_type": "stream",
          "name": "stdout",
          "text": [
            "Random Forest Accuracy: 68.69%\n",
            "\n",
            "Classification Report (RF):\n",
            "\n",
            "              precision    recall  f1-score   support\n",
            "\n",
            "           0       0.00      0.00      0.00         1\n",
            "           1       0.50      0.14      0.22         7\n",
            "           3       0.63      0.74      0.68        42\n",
            "           4       0.00      0.00      0.00         1\n",
            "           5       0.75      0.75      0.75        48\n",
            "\n",
            "    accuracy                           0.69        99\n",
            "   macro avg       0.38      0.33      0.33        99\n",
            "weighted avg       0.67      0.69      0.67        99\n",
            "\n"
          ]
        },
        {
          "output_type": "stream",
          "name": "stderr",
          "text": [
            "/usr/local/lib/python3.10/dist-packages/sklearn/metrics/_classification.py:1531: UndefinedMetricWarning: Precision is ill-defined and being set to 0.0 in labels with no predicted samples. Use `zero_division` parameter to control this behavior.\n",
            "  _warn_prf(average, modifier, f\"{metric.capitalize()} is\", len(result))\n",
            "/usr/local/lib/python3.10/dist-packages/sklearn/metrics/_classification.py:1531: UndefinedMetricWarning: Precision is ill-defined and being set to 0.0 in labels with no predicted samples. Use `zero_division` parameter to control this behavior.\n",
            "  _warn_prf(average, modifier, f\"{metric.capitalize()} is\", len(result))\n",
            "/usr/local/lib/python3.10/dist-packages/sklearn/metrics/_classification.py:1531: UndefinedMetricWarning: Precision is ill-defined and being set to 0.0 in labels with no predicted samples. Use `zero_division` parameter to control this behavior.\n",
            "  _warn_prf(average, modifier, f\"{metric.capitalize()} is\", len(result))\n"
          ]
        }
      ]
    }
  ]
}